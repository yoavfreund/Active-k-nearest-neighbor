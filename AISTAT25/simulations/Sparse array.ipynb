{
 "cells": [
  {
   "cell_type": "code",
   "execution_count": 1,
   "id": "8b39bcb7",
   "metadata": {},
   "outputs": [
    {
     "name": "stdout",
     "output_type": "stream",
     "text": [
      "Non-zero elements in row 0: [4 9] at columns [0 2]\n",
      "Non-zero elements in column 1: [5 7] at rows [1 2]\n"
     ]
    }
   ],
   "source": [
    "import numpy as np\n",
    "from scipy.sparse import coo_array\n",
    "\n",
    "# Define the row, column, and data (non-zero values) for the sparse matrix\n",
    "row  = np.array([0, 1, 2, 0])  # Row indices of non-zero elements\n",
    "col  = np.array([0, 1, 1, 2])  # Column indices of non-zero elements\n",
    "data = np.array([4, 5, 7, 9])  # The non-zero elements\n",
    "\n",
    "# Create a COO sparse array (3x3 matrix) from the row, column, and data arrays\n",
    "sparse_matrix = coo_array((data, (row, col)), shape=(3, 3))\n",
    "\n",
    "# Function to get all non-zero elements in a specific row\n",
    "def get_nonzero_in_row(sparse_matrix, target_row):\n",
    "    mask = sparse_matrix.row == target_row  # Filter for the target row\n",
    "    return sparse_matrix.col[mask], sparse_matrix.data[mask]  # Return column indices and values\n",
    "\n",
    "# Function to get all non-zero elements in a specific column\n",
    "def get_nonzero_in_col(sparse_matrix, target_col):\n",
    "    mask = sparse_matrix.col == target_col  # Filter for the target column\n",
    "    return sparse_matrix.row[mask], sparse_matrix.data[mask]  # Return row indices and values\n",
    "\n",
    "# Get all non-zero elements in row 0\n",
    "row_0_cols, row_0_values = get_nonzero_in_row(sparse_matrix, 0)\n",
    "print(f\"Non-zero elements in row 0: {row_0_values} at columns {row_0_cols}\")\n",
    "\n",
    "# Get all non-zero elements in column 1\n",
    "col_1_rows, col_1_values = get_nonzero_in_col(sparse_matrix, 1)\n",
    "print(f\"Non-zero elements in column 1: {col_1_values} at rows {col_1_rows}\")\n"
   ]
  },
  {
   "cell_type": "code",
   "execution_count": null,
   "id": "6fe330b6",
   "metadata": {},
   "outputs": [],
   "source": []
  }
 ],
 "metadata": {
  "kernelspec": {
   "display_name": "Python 3 (ipykernel)",
   "language": "python",
   "name": "python3"
  },
  "language_info": {
   "codemirror_mode": {
    "name": "ipython",
    "version": 3
   },
   "file_extension": ".py",
   "mimetype": "text/x-python",
   "name": "python",
   "nbconvert_exporter": "python",
   "pygments_lexer": "ipython3",
   "version": "3.9.12"
  },
  "toc": {
   "base_numbering": 1,
   "nav_menu": {},
   "number_sections": true,
   "sideBar": true,
   "skip_h1_title": false,
   "title_cell": "Table of Contents",
   "title_sidebar": "Contents",
   "toc_cell": false,
   "toc_position": {},
   "toc_section_display": true,
   "toc_window_display": false
  }
 },
 "nbformat": 4,
 "nbformat_minor": 5
}
