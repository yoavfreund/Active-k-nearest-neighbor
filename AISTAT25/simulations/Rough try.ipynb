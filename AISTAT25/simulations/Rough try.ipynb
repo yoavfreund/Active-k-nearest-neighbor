{
 "cells": [
  {
   "cell_type": "code",
   "execution_count": 1,
   "id": "4799e3a9",
   "metadata": {},
   "outputs": [
    {
     "name": "stdout",
     "output_type": "stream",
     "text": [
      "%pylab is deprecated, use %matplotlib inline and import the required libraries.\n",
      "Populating the interactive namespace from numpy and matplotlib\n"
     ]
    }
   ],
   "source": [
    "%pylab inline\n",
    "from numpy.random import uniform"
   ]
  },
  {
   "cell_type": "code",
   "execution_count": 89,
   "id": "0566912a",
   "metadata": {},
   "outputs": [
    {
     "data": {
      "text/plain": [
       "200"
      ]
     },
     "execution_count": 89,
     "metadata": {},
     "output_type": "execute_result"
    }
   ],
   "source": [
    "gamma=0.1 ## minimal distinction\n",
    "n=10000 ## number of points\n",
    "C=2\n",
    "k=round(C/gamma**2) ## number of queries needed to identify polarity \n",
    "k\n",
    "\n",
    "poisson=uniform(size=n)\n",
    "order = argsort(poisson)\n",
    "points = array(range(n))\n",
    "points=points[order]\n",
    "poisson=poisson[order]\n",
    "poisson[:5],points[:5]"
   ]
  },
  {
   "cell_type": "code",
   "execution_count": 91,
   "id": "81ac9d41",
   "metadata": {},
   "outputs": [
    {
     "data": {
      "text/plain": [
       "array([0., 0., 0., 0., 0., 0., 0., 0., 0., 0.])"
      ]
     },
     "execution_count": 91,
     "metadata": {},
     "output_type": "execute_result"
    }
   ],
   "source": [
    "Q=zeros(n)  # 1 if point has been queried\n",
    "Q[:10]"
   ]
  },
  {
   "cell_type": "markdown",
   "id": "9acc7d7f",
   "metadata": {},
   "source": [
    "## Define conditional distribution"
   ]
  },
  {
   "cell_type": "code",
   "execution_count": 92,
   "id": "f806c852",
   "metadata": {},
   "outputs": [],
   "source": [
    "def cond(x):\n",
    "    if x>1/2: return 0.75\n",
    "    else: return 0.25\n",
    "\n",
    "X=list(arange(0,1,0.01))\n",
    "\n",
    "plot(X, [cond(x) for x in X])\n",
    "\n",
    "labels=[]\n",
    "for p in points:\n",
    "    a=cond(p/n)\n",
    "    l=uniform(0,1)<a\n",
    "    if l: l=1\n",
    "    else: l=-1\n",
    "    labels.append(l)\n",
    "labels=array(labels)\n",
    "plot(points[:100],labels[:100],'.')"
   ]
  },
  {
   "cell_type": "markdown",
   "id": "a71e52e2",
   "metadata": {},
   "source": [
    "## Define balls"
   ]
  },
  {
   "cell_type": "code",
   "execution_count": 132,
   "id": "2fe4c81c",
   "metadata": {},
   "outputs": [],
   "source": [
    "from scipy.sparse import coo_array\n",
    "Balls=[]\n",
    "for l in arange(0,4):\n",
    "    List=[]\n",
    "    s=1/(2**(l+1))\n",
    "    for x in arange(0,1-s+0.000001,s/2):\n",
    "        List+=[array([x,x+s])]\n",
    "    Balls+=[List]\n",
    "#Balls"
   ]
  },
  {
   "cell_type": "markdown",
   "id": "9f19cc88",
   "metadata": {},
   "source": [
    "## Loop over levels"
   ]
  },
  {
   "cell_type": "code",
   "execution_count": 133,
   "id": "d84bcd82",
   "metadata": {},
   "outputs": [],
   "source": [
    "#label ball and add it to the list of labeled balls.\n",
    "def LabelBall(b,no_answered,eta):\n",
    "    #define label to be -1/0/+1\n",
    "    # create new record in list of labeled balls.\n",
    "\n",
    "    "
   ]
  },
  {
   "cell_type": "code",
   "execution_count": 138,
   "id": "b2c79f6e",
   "metadata": {},
   "outputs": [
    {
     "name": "stdout",
     "output_type": "stream",
     "text": [
      "l=3, i=0,b=[0.  0.5],\tR.shape=5000,number answered=118.0,eta=-0.508\n",
      "l=3, i=1,b=[0.25 0.75],\tR.shape=5000,number answered=132.0,eta=-0.0068\n",
      "l=3, i=2,b=[0.5 1. ],\tR.shape=4999,number answered=132.0,eta=0.5007001400280056\n",
      "l=3, i=0,b=[0.   0.25],\tR.shape=2500,number answered=54.0,eta=-0.512\n",
      "l=3, i=1,b=[0.125 0.375],\tR.shape=2500,number answered=61.0,eta=-0.508\n",
      "l=3, i=2,b=[0.25 0.5 ],\tR.shape=2500,number answered=64.0,eta=-0.504\n",
      "l=3, i=3,b=[0.375 0.625],\tR.shape=2500,number answered=68.0,eta=-0.0088\n",
      "l=3, i=4,b=[0.5  0.75],\tR.shape=2500,number answered=68.0,eta=0.4904\n",
      "l=3, i=5,b=[0.625 0.875],\tR.shape=2500,number answered=74.0,eta=0.5088\n",
      "l=3, i=6,b=[0.75 1.  ],\tR.shape=2499,number answered=64.0,eta=0.5110044017607043\n",
      "l=3, i=0,b=[0.    0.125],\tR.shape=1250,number answered=22.0,eta=-0.504\n",
      "l=3, i=1,b=[0.0625 0.1875],\tR.shape=1250,number answered=26.0,eta=-0.4976\n",
      "l=3, i=2,b=[0.125 0.25 ],\tR.shape=1250,number answered=32.0,eta=-0.52\n",
      "l=3, i=3,b=[0.1875 0.3125],\tR.shape=1250,number answered=33.0,eta=-0.5216\n",
      "l=3, i=4,b=[0.25  0.375],\tR.shape=1250,number answered=29.0,eta=-0.496\n",
      "l=3, i=5,b=[0.3125 0.4375],\tR.shape=1250,number answered=34.0,eta=-0.5232\n",
      "l=3, i=6,b=[0.375 0.5  ],\tR.shape=1250,number answered=35.0,eta=-0.512\n",
      "l=3, i=7,b=[0.4375 0.5625],\tR.shape=1250,number answered=32.0,eta=-0.0016\n",
      "l=3, i=8,b=[0.5   0.625],\tR.shape=1250,number answered=33.0,eta=0.4944\n",
      "l=3, i=9,b=[0.5625 0.6875],\tR.shape=1250,number answered=28.0,eta=0.48\n",
      "l=3, i=10,b=[0.625 0.75 ],\tR.shape=1250,number answered=35.0,eta=0.4864\n",
      "l=3, i=11,b=[0.6875 0.8125],\tR.shape=1250,number answered=48.0,eta=0.5008\n",
      "l=3, i=12,b=[0.75  0.875],\tR.shape=1250,number answered=39.0,eta=0.5312\n",
      "l=3, i=13,b=[0.8125 0.9375],\tR.shape=1250,number answered=29.0,eta=0.5344\n",
      "l=3, i=14,b=[0.875 1.   ],\tR.shape=1249,number answered=25.0,eta=0.49079263410728585\n",
      "l=3, i=0,b=[0.     0.0625],\tR.shape=625,number answered=11.0,eta=-0.4784\n",
      "l=3, i=1,b=[0.03125 0.09375],\tR.shape=625,number answered=11.0,eta=-0.4752\n",
      "l=3, i=2,b=[0.0625 0.125 ],\tR.shape=625,number answered=11.0,eta=-0.5296\n",
      "l=3, i=3,b=[0.09375 0.15625],\tR.shape=625,number answered=15.0,eta=-0.5264\n",
      "l=3, i=4,b=[0.125  0.1875],\tR.shape=625,number answered=15.0,eta=-0.4656\n",
      "l=3, i=5,b=[0.15625 0.21875],\tR.shape=625,number answered=14.0,eta=-0.5104\n",
      "l=3, i=6,b=[0.1875 0.25  ],\tR.shape=625,number answered=17.0,eta=-0.5744\n",
      "l=3, i=7,b=[0.21875 0.28125],\tR.shape=625,number answered=20.0,eta=-0.5456\n",
      "l=3, i=8,b=[0.25   0.3125],\tR.shape=625,number answered=16.0,eta=-0.4688\n",
      "l=3, i=9,b=[0.28125 0.34375],\tR.shape=625,number answered=14.0,eta=-0.4688\n",
      "l=3, i=10,b=[0.3125 0.375 ],\tR.shape=625,number answered=13.0,eta=-0.5232\n",
      "l=3, i=11,b=[0.34375 0.40625],\tR.shape=625,number answered=15.0,eta=-0.5136\n",
      "l=3, i=12,b=[0.375  0.4375],\tR.shape=625,number answered=21.0,eta=-0.5232\n",
      "l=3, i=13,b=[0.40625 0.46875],\tR.shape=625,number answered=20.0,eta=-0.5648\n",
      "l=3, i=14,b=[0.4375 0.5   ],\tR.shape=625,number answered=14.0,eta=-0.5008\n",
      "l=3, i=15,b=[0.46875 0.53125],\tR.shape=625,number answered=9.0,eta=0.0816\n",
      "l=3, i=16,b=[0.5    0.5625],\tR.shape=625,number answered=18.0,eta=0.4976\n",
      "found\n",
      "found\n"
     ]
    },
    {
     "data": {
      "text/plain": [
       "(18.0, 625)"
      ]
     },
     "execution_count": 138,
     "metadata": {},
     "output_type": "execute_result"
    }
   ],
   "source": [
    "Q[:]=0\n",
    "Q[round(n/4):round(n*3/4):20]=1\n",
    "\n",
    "##Count number of queries in each segment\n",
    "for B in Balls:\n",
    "    #print('shape of B:',shape(B))\n",
    "    found=False\n",
    "    for i in range(len(B)):\n",
    "        b=B[i]\n",
    "        R=where((points>b[0]*n) & (points<=b[1]*n))[0]  # pointer to answered queries\n",
    "        s=sum(Q[R])    #number of queries answered\n",
    "        eta=mean(labels[R]) #mean of answers to queries\n",
    "        print(f'l={l}, i={i},b={b},\\tR.shape={R.shape[0]},number answered={s},eta={eta}')\n",
    "        \n",
    "        if (sum(Q[R])>2) and (Q[R].shape[0]<630) and mean(labels[R])>0.1:\n",
    "            found=True\n",
    "            print('found')\n",
    "            break\n",
    "        \n",
    "        if s > k:\n",
    "            A=1\n",
    "            # if s < C/gamma^2, then don't call\n",
    "            # else\n",
    "            #LabelBall(b,s,eta)   #label ball and add it to the list of labeled balls.\n",
    "            #del B[i]\n",
    "    if found:\n",
    "        print('found')\n",
    "        break\n",
    "\n",
    "sum(Q[R]), Q[R].shape[0]"
   ]
  },
  {
   "cell_type": "code",
   "execution_count": 139,
   "id": "4441a7d0",
   "metadata": {},
   "outputs": [
    {
     "data": {
      "text/plain": [
       "array([   4,    6,   20,   46,   47,   58,   71,   75,   78,   83,  132,\n",
       "        146,  162,  170,  186,  189,  198,  203,  222,  240,  248,  257,\n",
       "        261,  265,  332,  335,  338,  366,  380,  404,  406,  417,  429,\n",
       "        463,  467,  515,  516,  539,  594,  623,  643,  656,  667,  683,\n",
       "        686,  690,  721,  739,  743,  761,  779,  805,  821,  824,  832,\n",
       "        840,  845,  855,  860,  873,  961,  969,  972,  973,  990, 1006,\n",
       "       1015, 1047, 1053, 1070, 1072, 1086, 1092, 1110, 1113, 1115, 1124,\n",
       "       1173, 1205, 1251, 1275, 1285, 1300, 1348, 1388, 1409, 1411, 1417,\n",
       "       1429, 1513, 1559, 1562, 1577, 1590, 1598, 1616, 1651, 1658, 1682,\n",
       "       1694, 1695, 1699, 1715, 1720, 1729, 1766, 1772, 1796, 1815, 1824,\n",
       "       1840, 1866, 1890, 1895, 1935, 1936, 1978, 2016, 2023, 2032, 2033,\n",
       "       2043, 2048, 2074, 2083, 2085, 2090, 2095, 2097, 2135, 2140, 2142,\n",
       "       2150, 2151, 2160, 2178, 2180, 2184, 2220, 2227, 2228, 2240, 2253,\n",
       "       2258, 2281, 2311, 2317, 2343, 2345, 2357, 2377, 2387, 2414, 2465,\n",
       "       2527, 2533, 2538, 2553, 2567, 2569, 2577, 2590, 2604, 2613, 2638,\n",
       "       2654, 2668, 2674, 2677, 2687, 2700, 2723, 2758, 2768, 2775, 2777,\n",
       "       2785, 2789, 2790, 2809, 2812, 2833, 2835, 2863, 2878, 2896, 2909,\n",
       "       2920, 2941, 2942, 2946, 2953, 2961, 2996, 3038, 3049, 3052, 3058,\n",
       "       3060, 3064, 3111, 3113, 3114, 3119, 3157, 3161, 3169, 3178, 3190,\n",
       "       3193, 3212, 3221, 3234, 3261, 3281, 3283, 3288, 3311, 3322, 3342,\n",
       "       3369, 3383, 3399, 3421, 3499, 3500, 3509, 3519, 3540, 3549, 3601,\n",
       "       3609, 3619, 3646, 3652, 3655, 3656, 3663, 3673, 3684, 3690, 3715,\n",
       "       3716, 3719, 3726, 3739, 3742, 3759, 3766, 3810, 3825, 3831, 3873,\n",
       "       3874, 3875, 3886, 3912, 3936, 3940, 3965, 3985, 3988, 4012, 4016,\n",
       "       4030, 4036, 4066, 4069, 4082, 4112, 4115, 4130, 4145, 4149, 4151,\n",
       "       4202, 4257, 4269, 4271, 4297, 4304, 4318, 4331, 4372, 4374, 4382,\n",
       "       4395, 4396, 4400, 4404, 4406, 4418, 4423, 4428, 4459, 4471, 4490,\n",
       "       4498, 4499, 4525, 4568, 4604, 4621, 4645, 4714, 4730, 4755, 4760,\n",
       "       4785, 4846, 4876, 4880, 4897, 4914, 4962, 4963, 4979, 4983, 4984,\n",
       "       4994, 5036, 5092, 5136, 5167, 5184, 5210, 5216, 5309, 5311, 5373,\n",
       "       5399, 5438, 5441, 5451, 5452, 5456, 5463, 5479, 5483, 5489, 5521,\n",
       "       5526, 5536, 5537, 5538, 5568, 5577, 5589, 5608, 5619, 5659, 5661,\n",
       "       5694, 5718, 5743, 5748, 5753, 5771, 5818, 5837, 5838, 5843, 5852,\n",
       "       5864, 5910, 5940, 5954, 5956, 5957, 5983, 5990, 5992, 6041, 6044,\n",
       "       6054, 6073, 6095, 6120, 6138, 6171, 6176, 6183, 6197, 6198, 6212,\n",
       "       6230, 6257, 6267, 6290, 6292, 6300, 6303, 6308, 6311, 6319, 6344,\n",
       "       6383, 6398, 6400, 6415, 6420, 6429, 6440, 6466, 6478, 6490, 6510,\n",
       "       6519, 6532, 6557, 6563, 6565, 6572, 6577, 6583, 6590, 6593, 6601,\n",
       "       6612, 6630, 6639, 6648, 6672, 6699, 6700, 6702, 6708, 6726, 6738,\n",
       "       6744, 6768, 6773, 6777, 6796, 6801, 6806, 6825, 6828, 6841, 6844,\n",
       "       6904, 6908, 6925, 6945, 6953, 6973, 7004, 7018, 7060, 7097, 7121,\n",
       "       7145, 7148, 7155, 7165, 7171, 7185, 7214, 7258, 7259, 7264, 7277,\n",
       "       7285, 7304, 7306, 7335, 7342, 7350, 7352, 7361, 7382, 7426, 7479,\n",
       "       7480, 7497, 7508, 7519, 7523, 7535, 7547, 7561, 7562, 7565, 7593,\n",
       "       7610, 7635, 7671, 7704, 7705, 7723, 7736, 7749, 7759, 7813, 7822,\n",
       "       7863, 7878, 7888, 7897, 7902, 7907, 7912, 7921, 7964, 7970, 7971,\n",
       "       7980, 7986, 7996, 8009, 8013, 8028, 8074, 8125, 8148, 8166, 8205,\n",
       "       8209, 8212, 8232, 8235, 8275, 8284, 8329, 8368, 8377, 8428, 8429,\n",
       "       8430, 8464, 8481, 8548, 8568, 8587, 8588, 8652, 8662, 8669, 8681,\n",
       "       8701, 8711, 8720, 8731, 8746, 8764, 8769, 8776, 8791, 8821, 8824,\n",
       "       8826, 8845, 8847, 8890, 8900, 8906, 8911, 8926, 8927, 8947, 8951,\n",
       "       8954, 8957, 8966, 9010, 9011, 9013, 9016, 9018, 9019, 9023, 9036,\n",
       "       9044, 9064, 9086, 9094, 9108, 9114, 9145, 9192, 9218, 9220, 9252,\n",
       "       9256, 9269, 9276, 9285, 9314, 9330, 9372, 9386, 9423, 9434, 9455,\n",
       "       9461, 9476, 9500, 9513, 9518, 9524, 9540, 9559, 9567, 9574, 9586,\n",
       "       9613, 9624, 9638, 9640, 9695, 9712, 9723, 9747, 9754, 9772, 9778,\n",
       "       9797, 9865, 9869, 9872, 9896, 9923, 9960, 9974, 9993])"
      ]
     },
     "execution_count": 139,
     "metadata": {},
     "output_type": "execute_result"
    }
   ],
   "source": [
    "R"
   ]
  },
  {
   "cell_type": "code",
   "execution_count": 140,
   "id": "8e0be884",
   "metadata": {},
   "outputs": [],
   "source": [
    "eta=mean(labels[R])"
   ]
  },
  {
   "cell_type": "code",
   "execution_count": 119,
   "id": "eb2aa4d4",
   "metadata": {},
   "outputs": [],
   "source": [
    "a=array(range(100))"
   ]
  },
  {
   "cell_type": "code",
   "execution_count": 120,
   "id": "3266a99d",
   "metadata": {},
   "outputs": [
    {
     "data": {
      "text/plain": [
       "(array([91, 92, 93, 94, 95, 96, 97, 98, 99]),)"
      ]
     },
     "execution_count": 120,
     "metadata": {},
     "output_type": "execute_result"
    }
   ],
   "source": [
    "where(a>90)"
   ]
  },
  {
   "cell_type": "code",
   "execution_count": null,
   "id": "7901eca3",
   "metadata": {},
   "outputs": [],
   "source": []
  }
 ],
 "metadata": {
  "kernelspec": {
   "display_name": "Python 3 (ipykernel)",
   "language": "python",
   "name": "python3"
  },
  "language_info": {
   "codemirror_mode": {
    "name": "ipython",
    "version": 3
   },
   "file_extension": ".py",
   "mimetype": "text/x-python",
   "name": "python",
   "nbconvert_exporter": "python",
   "pygments_lexer": "ipython3",
   "version": "3.9.12"
  },
  "toc": {
   "base_numbering": 1,
   "nav_menu": {},
   "number_sections": true,
   "sideBar": true,
   "skip_h1_title": false,
   "title_cell": "Table of Contents",
   "title_sidebar": "Contents",
   "toc_cell": false,
   "toc_position": {},
   "toc_section_display": true,
   "toc_window_display": false
  }
 },
 "nbformat": 4,
 "nbformat_minor": 5
}
