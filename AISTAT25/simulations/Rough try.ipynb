{
 "cells": [
  {
   "cell_type": "code",
   "execution_count": 2,
   "id": "4799e3a9",
   "metadata": {},
   "outputs": [
    {
     "name": "stdout",
     "output_type": "stream",
     "text": [
      "%pylab is deprecated, use %matplotlib inline and import the required libraries.\n",
      "Populating the interactive namespace from numpy and matplotlib\n"
     ]
    }
   ],
   "source": [
    "%pylab inline\n",
    "from numpy.random import uniform"
   ]
  },
  {
   "cell_type": "code",
   "execution_count": 4,
   "id": "0566912a",
   "metadata": {},
   "outputs": [
    {
     "data": {
      "text/plain": [
       "200"
      ]
     },
     "execution_count": 4,
     "metadata": {},
     "output_type": "execute_result"
    }
   ],
   "source": [
    "gamma=0.1\n",
    "n=100000\n",
    "C=2\n",
    "k=round(C/gamma**2) ## number of examples \n",
    "k"
   ]
  },
  {
   "cell_type": "code",
   "execution_count": 53,
   "id": "3221a05f",
   "metadata": {},
   "outputs": [
    {
     "ename": "ValueError",
     "evalue": "Cannot specify order when the array has no fields.",
     "output_type": "error",
     "traceback": [
      "\u001b[0;31m---------------------------------------------------------------------------\u001b[0m",
      "\u001b[0;31mValueError\u001b[0m                                Traceback (most recent call last)",
      "Input \u001b[0;32mIn [53]\u001b[0m, in \u001b[0;36m<cell line: 2>\u001b[0;34m()\u001b[0m\n\u001b[1;32m      1\u001b[0m Q\u001b[38;5;241m=\u001b[39mnp\u001b[38;5;241m.\u001b[39marray([]) \u001b[38;5;66;03m## elements queried so far.\u001b[39;00m\n\u001b[0;32m----> 2\u001b[0m \u001b[43mnp\u001b[49m\u001b[38;5;241;43m.\u001b[39;49m\u001b[43msort\u001b[49m\u001b[43m(\u001b[49m\u001b[43mQ\u001b[49m\u001b[43m,\u001b[49m\u001b[43morder\u001b[49m\u001b[38;5;241;43m=\u001b[39;49m\u001b[38;5;241;43m0\u001b[39;49m\u001b[43m)\u001b[49m\n\u001b[1;32m      3\u001b[0m Q[:\u001b[38;5;241m10\u001b[39m,:]\n",
      "File \u001b[0;32m<__array_function__ internals>:180\u001b[0m, in \u001b[0;36msort\u001b[0;34m(*args, **kwargs)\u001b[0m\n",
      "File \u001b[0;32m~/miniforge3/lib/python3.9/site-packages/numpy/core/fromnumeric.py:1004\u001b[0m, in \u001b[0;36msort\u001b[0;34m(a, axis, kind, order)\u001b[0m\n\u001b[1;32m   1002\u001b[0m \u001b[38;5;28;01melse\u001b[39;00m:\n\u001b[1;32m   1003\u001b[0m     a \u001b[38;5;241m=\u001b[39m asanyarray(a)\u001b[38;5;241m.\u001b[39mcopy(order\u001b[38;5;241m=\u001b[39m\u001b[38;5;124m\"\u001b[39m\u001b[38;5;124mK\u001b[39m\u001b[38;5;124m\"\u001b[39m)\n\u001b[0;32m-> 1004\u001b[0m \u001b[43ma\u001b[49m\u001b[38;5;241;43m.\u001b[39;49m\u001b[43msort\u001b[49m\u001b[43m(\u001b[49m\u001b[43maxis\u001b[49m\u001b[38;5;241;43m=\u001b[39;49m\u001b[43maxis\u001b[49m\u001b[43m,\u001b[49m\u001b[43m \u001b[49m\u001b[43mkind\u001b[49m\u001b[38;5;241;43m=\u001b[39;49m\u001b[43mkind\u001b[49m\u001b[43m,\u001b[49m\u001b[43m \u001b[49m\u001b[43morder\u001b[49m\u001b[38;5;241;43m=\u001b[39;49m\u001b[43morder\u001b[49m\u001b[43m)\u001b[49m\n\u001b[1;32m   1005\u001b[0m \u001b[38;5;28;01mreturn\u001b[39;00m a\n",
      "\u001b[0;31mValueError\u001b[0m: Cannot specify order when the array has no fields."
     ]
    }
   ],
   "source": [
    "Q=np.array([]) ## elements queried so far."
   ]
  },
  {
   "cell_type": "code",
   "execution_count": 49,
   "id": "a33dbf09",
   "metadata": {},
   "outputs": [],
   "source": [
    "poisson=uniform(size=[n,2])"
   ]
  },
  {
   "cell_type": "code",
   "execution_count": 52,
   "id": "9b51ae57",
   "metadata": {},
   "outputs": [
    {
     "data": {
      "text/plain": [
       "array([[0.54981873, 0.9999    ],\n",
       "       [0.90161991, 0.99991   ],\n",
       "       [0.71915444, 0.99992   ],\n",
       "       [0.13927727, 0.99993   ],\n",
       "       [0.54938793, 0.99994   ],\n",
       "       [0.41119868, 0.99995   ],\n",
       "       [0.76730185, 0.99996   ],\n",
       "       [0.37898482, 0.99997   ],\n",
       "       [0.99505843, 0.99998   ],\n",
       "       [0.67745102, 0.99999   ]])"
      ]
     },
     "execution_count": 52,
     "metadata": {},
     "output_type": "execute_result"
    }
   ],
   "source": [
    "poisson[:,1] = arange(0,1,1/n)\n",
    "poisson[-10:,:]"
   ]
  },
  {
   "cell_type": "markdown",
   "id": "9f19cc88",
   "metadata": {},
   "source": [
    "## Loop over levels"
   ]
  },
  {
   "cell_type": "code",
   "execution_count": 47,
   "id": "19bd06ed",
   "metadata": {},
   "outputs": [],
   "source": [
    "l=0\n",
    "m=100"
   ]
  },
  {
   "cell_type": "code",
   "execution_count": 48,
   "id": "dcf7b760",
   "metadata": {},
   "outputs": [
    {
     "data": {
      "text/plain": [
       "array([[0.11838106, 0.86020644],\n",
       "       [0.16118632, 0.80688784],\n",
       "       [0.16587494, 0.93027671],\n",
       "       [0.14721634, 0.7329121 ],\n",
       "       [0.10275051, 0.97709066],\n",
       "       [0.19054901, 0.80117456],\n",
       "       [0.34508063, 0.95520207],\n",
       "       [0.06479912, 0.82250738],\n",
       "       [0.10326546, 0.87498751],\n",
       "       [0.28171016, 0.96622812],\n",
       "       [0.09081976, 0.68826249],\n",
       "       [0.32458248, 0.89007951],\n",
       "       [0.14488818, 0.94807685],\n",
       "       [0.24777751, 0.93937091],\n",
       "       [0.41676053, 0.9347994 ],\n",
       "       [0.19947092, 0.90255165],\n",
       "       [0.2803252 , 0.99673722],\n",
       "       [0.06407992, 0.67164335],\n",
       "       [0.03483965, 0.80192653],\n",
       "       [0.06122233, 0.81234845],\n",
       "       [0.27446513, 0.84447431],\n",
       "       [0.23374797, 0.9454647 ],\n",
       "       [0.04125906, 0.63732089],\n",
       "       [0.11355446, 0.78594615],\n",
       "       [0.29160945, 0.92920967],\n",
       "       [0.1580746 , 0.85708563],\n",
       "       [0.23600171, 0.76142596]])"
      ]
     },
     "execution_count": 48,
     "metadata": {},
     "output_type": "execute_result"
    }
   ],
   "source": [
    "Cand = np.roununiform(size=[m,2])\n",
    "\n",
    "Cand = np.sort(Cand,axis=1)\n",
    "\n",
    "f=Cand[:,1]-Cand[:,0]>0.5\n",
    "\n",
    "Good=Cand[f,:]\n",
    "Good"
   ]
  },
  {
   "cell_type": "code",
   "execution_count": null,
   "id": "0352bccb",
   "metadata": {},
   "outputs": [],
   "source": []
  },
  {
   "cell_type": "code",
   "execution_count": null,
   "id": "4441a7d0",
   "metadata": {},
   "outputs": [],
   "source": []
  }
 ],
 "metadata": {
  "kernelspec": {
   "display_name": "Python 3 (ipykernel)",
   "language": "python",
   "name": "python3"
  },
  "language_info": {
   "codemirror_mode": {
    "name": "ipython",
    "version": 3
   },
   "file_extension": ".py",
   "mimetype": "text/x-python",
   "name": "python",
   "nbconvert_exporter": "python",
   "pygments_lexer": "ipython3",
   "version": "3.9.12"
  },
  "toc": {
   "base_numbering": 1,
   "nav_menu": {},
   "number_sections": true,
   "sideBar": true,
   "skip_h1_title": false,
   "title_cell": "Table of Contents",
   "title_sidebar": "Contents",
   "toc_cell": false,
   "toc_position": {},
   "toc_section_display": true,
   "toc_window_display": false
  }
 },
 "nbformat": 4,
 "nbformat_minor": 5
}
